{
  "metadata": {
    "kernelspec": {
      "name": "python",
      "display_name": "Python (Pyodide)",
      "language": "python"
    },
    "language_info": {
      "codemirror_mode": {
        "name": "python",
        "version": 3
      },
      "file_extension": ".py",
      "mimetype": "text/x-python",
      "name": "python",
      "nbconvert_exporter": "python",
      "pygments_lexer": "ipython3",
      "version": "3.8"
    },
    "colab": {
      "provenance": []
    }
  },
  "nbformat_minor": 5,
  "nbformat": 4,
  "cells": [
    {
      "id": "65b15804-6da0-4fb3-be5d-0a3fff7ffe85",
      "cell_type": "markdown",
      "source": [
        "### SE(AI&DS)-Bhavya Damani 10"
      ],
      "metadata": {
        "id": "65b15804-6da0-4fb3-be5d-0a3fff7ffe85"
      }
    },
    {
      "id": "1942d334-5c69-4806-aad6-e13b6d70275e",
      "cell_type": "markdown",
      "source": [
        "##### Program to Demonstrate Data Series using Pandas"
      ],
      "metadata": {
        "id": "1942d334-5c69-4806-aad6-e13b6d70275e"
      }
    },
    {
      "id": "fa4d7f7a-fdd4-4ec7-b993-d3e4c4f30400",
      "cell_type": "code",
      "source": [
        "import pandas as pd"
      ],
      "metadata": {
        "trusted": true,
        "id": "fa4d7f7a-fdd4-4ec7-b993-d3e4c4f30400"
      },
      "outputs": [],
      "execution_count": null
    },
    {
      "id": "7064f6e2-4ba9-4699-9869-ac646b293e4c",
      "cell_type": "markdown",
      "source": [
        "##### Creating a Series from a list"
      ],
      "metadata": {
        "id": "7064f6e2-4ba9-4699-9869-ac646b293e4c"
      }
    },
    {
      "id": "d915dddd-9c10-47d0-92ba-d27a64c9c15e",
      "cell_type": "code",
      "source": [
        "data_list = [10, 20, 30, 40, 50]\n",
        "series1 = pd.Series(data_list)\n",
        "print(\"Series from list:\\n\", series1)"
      ],
      "metadata": {
        "trusted": true,
        "id": "d915dddd-9c10-47d0-92ba-d27a64c9c15e",
        "outputId": "9e5ea32b-87ec-4bfa-e363-0b3c591e27c2"
      },
      "outputs": [
        {
          "name": "stdout",
          "output_type": "stream",
          "text": "Series from list:\n 0    10\n1    20\n2    30\n3    40\n4    50\ndtype: int64\n"
        }
      ],
      "execution_count": null
    },
    {
      "id": "9588c81d-bf79-40d0-bbda-0fda524e137e",
      "cell_type": "markdown",
      "source": [
        "##### Creating a Series with custom indices"
      ],
      "metadata": {
        "id": "9588c81d-bf79-40d0-bbda-0fda524e137e"
      }
    },
    {
      "id": "6c89c886-de4c-4756-af60-211779261e8a",
      "cell_type": "code",
      "source": [
        "custom_index = ['a', 'b', 'c', 'd', 'e']\n",
        "series2 = pd.Series(data_list, index=custom_index)\n",
        "print(\"Series with custom index:\\n\", series2)"
      ],
      "metadata": {
        "trusted": true,
        "id": "6c89c886-de4c-4756-af60-211779261e8a",
        "outputId": "91084fca-829c-46f6-b34b-a8193b447b43"
      },
      "outputs": [
        {
          "name": "stdout",
          "output_type": "stream",
          "text": "Series with custom index:\n a    10\nb    20\nc    30\nd    40\ne    50\ndtype: int64\n"
        }
      ],
      "execution_count": null
    },
    {
      "id": "bf520b83-3358-4d42-8f2c-717ca3ccd89c",
      "cell_type": "markdown",
      "source": [
        "##### Accessing elements"
      ],
      "metadata": {
        "id": "bf520b83-3358-4d42-8f2c-717ca3ccd89c"
      }
    },
    {
      "id": "971e9106-18f9-4839-9056-da43a4ff47d3",
      "cell_type": "code",
      "source": [
        "print(\"Accessing element at index 'c':\", series2['c'])"
      ],
      "metadata": {
        "trusted": true,
        "id": "971e9106-18f9-4839-9056-da43a4ff47d3",
        "outputId": "778d3479-6f41-4409-fc54-8badf43d2321"
      },
      "outputs": [
        {
          "name": "stdout",
          "output_type": "stream",
          "text": "Accessing element at index 'c': 30\n"
        }
      ],
      "execution_count": null
    },
    {
      "id": "6d90e293-a14d-4bf7-a54e-6e44535c45f1",
      "cell_type": "markdown",
      "source": [
        "##### Performing operations on Series"
      ],
      "metadata": {
        "id": "6d90e293-a14d-4bf7-a54e-6e44535c45f1"
      }
    },
    {
      "id": "2b37492c-f144-4fb2-8728-725899df4055",
      "cell_type": "code",
      "source": [
        "print(\"Adding 5 to each element:\\n\", series2 + 5)"
      ],
      "metadata": {
        "trusted": true,
        "id": "2b37492c-f144-4fb2-8728-725899df4055",
        "outputId": "3bec9785-9112-4ea1-d847-7cb0f098403e"
      },
      "outputs": [
        {
          "name": "stdout",
          "output_type": "stream",
          "text": "Adding 5 to each element:\n a    15\nb    25\nc    35\nd    45\ne    55\ndtype: int64\n"
        }
      ],
      "execution_count": null
    },
    {
      "id": "fec6b4a4-0635-4e05-9718-577d84cf7866",
      "cell_type": "markdown",
      "source": [
        "##### Creating Series from a dictionary"
      ],
      "metadata": {
        "id": "fec6b4a4-0635-4e05-9718-577d84cf7866"
      }
    },
    {
      "id": "275e54c4-0ae8-4f5a-ab36-0e9f99e56ec1",
      "cell_type": "code",
      "source": [
        "data_dict = {'Math': 80, 'Physics': 90, 'Chemistry': 85}\n",
        "series3 = pd.Series(data_dict)\n",
        "print(\"Series from dictionary:\\n\", series3)"
      ],
      "metadata": {
        "trusted": true,
        "id": "275e54c4-0ae8-4f5a-ab36-0e9f99e56ec1",
        "outputId": "f4dec45f-f439-49e1-c978-fa7151dd1357"
      },
      "outputs": [
        {
          "name": "stdout",
          "output_type": "stream",
          "text": "\nSeries from dictionary:\n Math         80\nPhysics      90\nChemistry    85\ndtype: int64\n"
        }
      ],
      "execution_count": null
    },
    {
      "id": "9ec93402-1029-443f-845b-ec685939be7a",
      "cell_type": "markdown",
      "source": [
        "##### Checking basic statistics"
      ],
      "metadata": {
        "id": "9ec93402-1029-443f-845b-ec685939be7a"
      }
    },
    {
      "id": "abce2834-49a8-4037-8c11-213dbfa82fc3",
      "cell_type": "code",
      "source": [
        "print(\"Maximum marks:\", series3.max())\n",
        "print(\"Subjects scored above 85: \\n\", series3[series3 > 85])"
      ],
      "metadata": {
        "trusted": true,
        "id": "abce2834-49a8-4037-8c11-213dbfa82fc3",
        "outputId": "424fa567-87be-4f22-b8fb-78e68ff266da"
      },
      "outputs": [
        {
          "name": "stdout",
          "output_type": "stream",
          "text": "Maximum marks: 90\nSubjects scored above 85: \n Physics    90\ndtype: int64\n"
        }
      ],
      "execution_count": null
    }
  ]
}