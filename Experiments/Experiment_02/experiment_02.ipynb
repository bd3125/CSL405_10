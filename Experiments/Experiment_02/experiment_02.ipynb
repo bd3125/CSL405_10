{
  "nbformat": 4,
  "nbformat_minor": 0,
  "metadata": {
    "colab": {
      "provenance": []
    },
    "kernelspec": {
      "name": "python3",
      "display_name": "Python 3"
    },
    "language_info": {
      "name": "python"
    }
  },
  "cells": [
    {
      "cell_type": "code",
      "source": [
        "class Employee:\n",
        "    def __init__ (\n",
        "            self,\n",
        "            designation : str = 'Developer',\n",
        "            frontend : bool = False,\n",
        "            backend : bool = False\n",
        "    ):\n",
        "        self.designation = designation\n",
        "        self.frontend = frontend\n",
        "        self.backend = backend\n",
        "\n",
        "    def __repr__ (self):\n",
        "        return '{}'.format (self.designation, self.frontend, self.backend)\n",
        "\n",
        "    ### Write the your method over here.\n",
        "    def verifier (self):\n",
        "          if self.frontend and self.backend:\n",
        "            return 'Fullstack Developer'\n",
        "          elif self.frontend:\n",
        "            return 'Frontend Developer'\n",
        "          elif self.backend:\n",
        "            return 'Backend Developer'\n",
        "          else:\n",
        "            return 'Not a Developer'\n",
        "\n",
        "if __name__ == '__main__':\n",
        "    print(\"Please provide your expertise (frontend, backend, or both).\")\n",
        "\n",
        "    frontend_input = input(\"Do you work on Frontend (yes/no)? \").strip().lower()\n",
        "    backend_input = input(\"Do you work on Backend (yes/no)? \").strip().lower()\n",
        "\n",
        "    frontend = True if frontend_input == 'yes' else False\n",
        "    backend = True if backend_input == 'yes' else False\n",
        "\n",
        "    employee = Employee(frontend=frontend, backend=backend)\n",
        "\n",
        "    print(f\"Employee designation: {employee.verifier()}\")\n",
        "    print(f\"Employee details: {employee}\")"
      ],
      "metadata": {
        "colab": {
          "base_uri": "https://localhost:8080/"
        },
        "id": "6NG1Sfj4SRTk",
        "outputId": "89e5a4e1-efae-4c79-ee3b-4a44307399b7"
      },
      "execution_count": 16,
      "outputs": [
        {
          "output_type": "stream",
          "name": "stdout",
          "text": [
            "Please provide your expertise (frontend, backend, or both).\n",
            "Do you work on Frontend (yes/no)? yes\n",
            "Do you work on Backend (yes/no)? yes\n",
            "Employee designation: Fullstack Developer\n",
            "Employee details: Developer\n"
          ]
        }
      ]
    },
    {
      "cell_type": "code",
      "source": [],
      "metadata": {
        "id": "aPfUOVY3cUmn"
      },
      "execution_count": null,
      "outputs": []
    }
  ]
}