{
  "metadata": {
    "kernelspec": {
      "name": "python",
      "display_name": "Python (Pyodide)",
      "language": "python"
    },
    "language_info": {
      "codemirror_mode": {
        "name": "python",
        "version": 3
      },
      "file_extension": ".py",
      "mimetype": "text/x-python",
      "name": "python",
      "nbconvert_exporter": "python",
      "pygments_lexer": "ipython3",
      "version": "3.8"
    },
    "colab": {
      "provenance": []
    }
  },
  "nbformat_minor": 5,
  "nbformat": 4,
  "cells": [
    {
      "id": "e1ace469-8146-436d-a4e2-8ca634c9e201",
      "cell_type": "markdown",
      "source": [
        "### SE(AI&DS)- Bhavya Damani 10"
      ],
      "metadata": {
        "id": "e1ace469-8146-436d-a4e2-8ca634c9e201"
      }
    },
    {
      "id": "bf9a9f6f-2acc-4cef-b553-66d0536a82dd",
      "cell_type": "markdown",
      "source": [
        "##### Program to demonstrate DataFrame using Pandas"
      ],
      "metadata": {
        "id": "bf9a9f6f-2acc-4cef-b553-66d0536a82dd"
      }
    },
    {
      "id": "eb3a034a-b2cf-4139-b000-74fa779d1e8c",
      "cell_type": "code",
      "source": [
        "import pandas as pd"
      ],
      "metadata": {
        "trusted": true,
        "id": "eb3a034a-b2cf-4139-b000-74fa779d1e8c"
      },
      "outputs": [],
      "execution_count": null
    },
    {
      "id": "49f6e98d-7338-45af-8597-193b0e7be875",
      "cell_type": "markdown",
      "source": [
        "##### Creating a DataFrame using a dictionary"
      ],
      "metadata": {
        "id": "49f6e98d-7338-45af-8597-193b0e7be875"
      }
    },
    {
      "id": "e3cd99d9-078d-4800-8767-a29772e1cc63",
      "cell_type": "code",
      "source": [
        "data = {\n",
        "    'Name': ['Alice', 'Bob', 'Charlie', 'David'],\n",
        "    'Age': [24, 27, 22, 32],\n",
        "    'Marks': [85, 78, 90, 88]\n",
        "}"
      ],
      "metadata": {
        "trusted": true,
        "id": "e3cd99d9-078d-4800-8767-a29772e1cc63"
      },
      "outputs": [],
      "execution_count": null
    },
    {
      "id": "14492cb0-2b07-41b1-80e5-62526885c9f2",
      "cell_type": "code",
      "source": [
        "df = pd.DataFrame(data)\n",
        "print(\"Initial DataFrame:\\n\", df)"
      ],
      "metadata": {
        "trusted": true,
        "id": "14492cb0-2b07-41b1-80e5-62526885c9f2",
        "outputId": "537d0616-eaa6-4fd8-cdd9-6c1d43ed8c6e"
      },
      "outputs": [
        {
          "name": "stdout",
          "output_type": "stream",
          "text": "Initial DataFrame:\n       Name  Age  Marks\n0    Alice   24     85\n1      Bob   27     78\n2  Charlie   22     90\n3    David   32     88\n"
        }
      ],
      "execution_count": null
    },
    {
      "id": "97d0e135-6136-4fec-8fda-1caaa6ca0c74",
      "cell_type": "markdown",
      "source": [
        "##### Accessing columns"
      ],
      "metadata": {
        "id": "97d0e135-6136-4fec-8fda-1caaa6ca0c74"
      }
    },
    {
      "id": "23657051-42b0-4dc9-9204-573fccc6dad0",
      "cell_type": "code",
      "source": [
        "print(\"Accessing 'Name' column:\\n\", df['Name'])"
      ],
      "metadata": {
        "trusted": true,
        "id": "23657051-42b0-4dc9-9204-573fccc6dad0",
        "outputId": "6f650dc0-eb50-4518-de4d-d39ecb36e83e"
      },
      "outputs": [
        {
          "name": "stdout",
          "output_type": "stream",
          "text": "Accessing 'Name' column:\n 0      Alice\n1        Bob\n2    Charlie\n3      David\nName: Name, dtype: object\n"
        }
      ],
      "execution_count": null
    },
    {
      "id": "9701520e-0645-4557-a1c0-97b81e5170d7",
      "cell_type": "markdown",
      "source": [
        "##### Adding a new column"
      ],
      "metadata": {
        "id": "9701520e-0645-4557-a1c0-97b81e5170d7"
      }
    },
    {
      "id": "5c6dcad7-31ec-4e77-88ef-0490a3ae72d6",
      "cell_type": "code",
      "source": [
        "df['Grade'] = ['B', 'C', 'A', 'A']\n",
        "print(\"DataFrame after adding 'Grade' column:\\n\", df)"
      ],
      "metadata": {
        "trusted": true,
        "id": "5c6dcad7-31ec-4e77-88ef-0490a3ae72d6",
        "outputId": "70236a44-9010-4571-9b1c-c6c6eb2b55f6"
      },
      "outputs": [
        {
          "name": "stdout",
          "output_type": "stream",
          "text": "DataFrame after adding 'Grade' column:\n       Name  Age  Marks Grade\n0    Alice   24     85     B\n1      Bob   27     78     C\n2  Charlie   22     90     A\n3    David   32     88     A\n"
        }
      ],
      "execution_count": null
    },
    {
      "id": "45785bc1-2399-4fdf-b76d-771f9d289262",
      "cell_type": "markdown",
      "source": [
        "##### Accessing a specific row using loc"
      ],
      "metadata": {
        "id": "45785bc1-2399-4fdf-b76d-771f9d289262"
      }
    },
    {
      "id": "498d107e-db86-42c9-82d0-c388de6500ec",
      "cell_type": "code",
      "source": [
        "print(\"Accessing row at index 2:\\n\", df.loc[2])"
      ],
      "metadata": {
        "trusted": true,
        "id": "498d107e-db86-42c9-82d0-c388de6500ec",
        "outputId": "94f6e528-ea41-4306-90a7-9b0e8f016f0a"
      },
      "outputs": [
        {
          "name": "stdout",
          "output_type": "stream",
          "text": "Accessing row at index 2:\n Name     Charlie\nAge           22\nMarks         90\nGrade          A\nName: 2, dtype: object\n"
        }
      ],
      "execution_count": null
    },
    {
      "id": "b33a63a2-7aac-409a-83df-8e3bc9b9d7c5",
      "cell_type": "markdown",
      "source": [
        "##### Accessing multiple rows using iloc"
      ],
      "metadata": {
        "id": "b33a63a2-7aac-409a-83df-8e3bc9b9d7c5"
      }
    },
    {
      "id": "bdab9c98-e3c5-4eb4-b4e3-b7e1915027be",
      "cell_type": "code",
      "source": [
        "print(\"Accessing rows from index 1 to 3:\\n\", df.iloc[1:4])"
      ],
      "metadata": {
        "trusted": true,
        "id": "bdab9c98-e3c5-4eb4-b4e3-b7e1915027be",
        "outputId": "312ef471-aa3f-4106-ae38-dbc8837211d0"
      },
      "outputs": [
        {
          "name": "stdout",
          "output_type": "stream",
          "text": "Accessing rows from index 1 to 3:\n       Name  Age  Marks Grade\n1      Bob   27     78     C\n2  Charlie   22     90     A\n3    David   32     88     A\n"
        }
      ],
      "execution_count": null
    },
    {
      "id": "7741d0e2-488c-46a3-889c-e25fbb00f8c5",
      "cell_type": "markdown",
      "source": [
        "##### Filtering data"
      ],
      "metadata": {
        "id": "7741d0e2-488c-46a3-889c-e25fbb00f8c5"
      }
    },
    {
      "id": "e67018b8-ec96-496d-af89-d9bda6577ad5",
      "cell_type": "code",
      "source": [
        "high_scorers = df[df['Marks'] > 85]\n",
        "print(\"Students scoring above 85 marks:\\n\", high_scorers)"
      ],
      "metadata": {
        "trusted": true,
        "id": "e67018b8-ec96-496d-af89-d9bda6577ad5",
        "outputId": "f61e2f99-433b-4078-a785-497d22c9891c"
      },
      "outputs": [
        {
          "name": "stdout",
          "output_type": "stream",
          "text": "Students scoring above 85 marks:\n       Name  Age  Marks Grade\n2  Charlie   22     90     A\n3    David   32     88     A\n"
        }
      ],
      "execution_count": null
    },
    {
      "id": "1836f3b1-8ce0-4d64-bd80-7673118f49fe",
      "cell_type": "markdown",
      "source": [
        "##### Basic statistics"
      ],
      "metadata": {
        "id": "1836f3b1-8ce0-4d64-bd80-7673118f49fe"
      }
    },
    {
      "id": "17d5fb6a-9b39-4639-aa08-0d866c6c78f1",
      "cell_type": "code",
      "source": [
        "print(\"Statistical summary:\\n\", df.describe())"
      ],
      "metadata": {
        "trusted": true,
        "id": "17d5fb6a-9b39-4639-aa08-0d866c6c78f1",
        "outputId": "1ce91aeb-c57f-4e53-fc5e-788836be8d83"
      },
      "outputs": [
        {
          "name": "stdout",
          "output_type": "stream",
          "text": "Statistical summary:\n              Age      Marks\ncount   4.000000   4.000000\nmean   26.250000  85.250000\nstd     4.349329   5.251984\nmin    22.000000  78.000000\n25%    23.500000  83.250000\n50%    25.500000  86.500000\n75%    28.250000  88.500000\nmax    32.000000  90.000000\n"
        }
      ],
      "execution_count": null
    }
  ]
}