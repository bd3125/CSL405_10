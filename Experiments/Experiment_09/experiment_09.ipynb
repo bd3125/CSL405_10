{
  "cells": [
    {
      "cell_type": "markdown",
      "id": "fced8178-d7a3-407b-84c7-6810f4e0eb5b",
      "metadata": {
        "id": "fced8178-d7a3-407b-84c7-6810f4e0eb5b"
      },
      "source": [
        "### SE(AI&DS) - Bhavya Damani_10\n",
        "\n",
        "\n",
        "\n"
      ]
    },
    {
      "cell_type": "code",
      "execution_count": null,
      "id": "8c83a77d-1093-4f9e-afcf-64648d162683",
      "metadata": {
        "colab": {
          "background_save": true,
          "base_uri": "https://localhost:8080/"
        },
        "id": "8c83a77d-1093-4f9e-afcf-64648d162683",
        "outputId": "b22f7867-3c38-43c4-c5af-96c0787e57b2"
      },
      "outputs": [
        {
          "name": "stdout",
          "output_type": "stream",
          "text": [
            "1. Array Creation Techniques\n",
            "[1 2 3 4 5]\n",
            "[0 2 4 6 8]\n",
            "[ 0.   2.5  5.   7.5 10. ]\n",
            "[[0. 0. 0.]\n",
            " [0. 0. 0.]\n",
            " [0. 0. 0.]]\n",
            "[[1. 1.]\n",
            " [1. 1.]]\n",
            "[[1. 0. 0.]\n",
            " [0. 1. 0.]\n",
            " [0. 0. 1.]]\n",
            "[[0.86922194 0.80186247 0.39936681]\n",
            " [0.16581643 0.70514118 0.52405189]\n",
            " [0.36445304 0.86619081 0.54807606]]\n",
            "\n",
            "2. NumPy Methods\n",
            "[[1 2 3]\n",
            " [4 5 6]\n",
            " [7 8 9]]\n",
            "[[1 4 7]\n",
            " [2 5 8]\n",
            " [3 6 9]]\n",
            "[1.         1.41421356 1.73205081]\n",
            "6\n",
            "2.0\n",
            "3\n",
            "1\n",
            "[1 2 3 4 5 6]\n",
            "[1 2 3 4]\n",
            "2\n",
            "[2 3]\n",
            "[3]\n"
          ]
        }
      ],
      "source": [
        "import numpy as np\n",
        "\n",
        "# 1. Array Creation Techniques\n",
        "print(\"1. Array Creation Techniques\")\n",
        "\n",
        "# a. Creating an array from a list\n",
        "array_from_list = np.array([1, 2, 3, 4, 5])\n",
        "print(array_from_list)\n",
        "\n",
        "# b. Using arange()\n",
        "array_arange = np.arange(0, 10, 2)\n",
        "print(array_arange)\n",
        "\n",
        "# c. Using linspace()\n",
        "array_linspace = np.linspace(0, 10, 5)  # Divides 0 to 10 into 5 points\n",
        "print(array_linspace)\n",
        "\n",
        "# d. Using zeros()\n",
        "array_zeros = np.zeros((3, 3))\n",
        "print(array_zeros)\n",
        "\n",
        "# e. Using ones()\n",
        "array_ones = np.ones((2, 2))\n",
        "print(array_ones)\n",
        "\n",
        "# f. Using eye() for identity matrix\n",
        "array_eye = np.eye(3)\n",
        "print(array_eye)\n",
        "\n",
        "# g. Using random() for random values\n",
        "array_random = np.random.random((3, 3))\n",
        "print(array_random)\n",
        "\n",
        "# 2. Different NumPy Methods\n",
        "print(\"\\n2. NumPy Methods\")\n",
        "\n",
        "# a. Reshaping an array\n",
        "reshaped_array = np.arange(1, 10).reshape(3, 3)\n",
        "print(reshaped_array)\n",
        "\n",
        "# b. Transposing an array\n",
        "transposed_array = reshaped_array.T\n",
        "print(transposed_array)\n",
        "\n",
        "# c. Mathematical operations\n",
        "array_math = np.array([1, 2, 3])\n",
        "array_math + 2\n",
        "array_math * 3\n",
        "print(np.sqrt(array_math))\n",
        "\n",
        "# d. Aggregation methods\n",
        "print(np.sum(array_math))\n",
        "print(np.mean(array_math))\n",
        "print(np.max(array_math))\n",
        "print(np.min(array_math))\n",
        "\n",
        "# e. Concatenation of arrays\n",
        "array_a = np.array([1, 2, 3])\n",
        "array_b = np.array([4, 5, 6])\n",
        "concat_array = np.concatenate((array_a, array_b))\n",
        "print(concat_array)\n",
        "\n",
        "# f. Sorting an array\n",
        "unsorted_array = np.array([3, 1, 4, 2])\n",
        "sorted_array = np.sort(unsorted_array)\n",
        "print(sorted_array)\n",
        "\n",
        "# g. Indexing and Slicing\n",
        "indexed_value = array_math[1]  # Indexing\n",
        "print(indexed_value)\n",
        "sliced_array = array_math[1:3]  # Slicing\n",
        "print(sliced_array)\n",
        "\n",
        "# h. Boolean Masking\n",
        "boolean_mask = array_math > 2\n",
        "boolean_mask\n",
        "print(array_math[boolean_mask])"
      ]
    },
    {
      "cell_type": "code",
      "execution_count": null,
      "id": "9250ef84-1359-4612-bcc0-c4799d62d588",
      "metadata": {
        "id": "9250ef84-1359-4612-bcc0-c4799d62d588"
      },
      "outputs": [],
      "source": []
    }
  ],
  "metadata": {
    "colab": {
      "provenance": []
    },
    "kernelspec": {
      "display_name": "Python 3 (ipykernel)",
      "language": "python",
      "name": "python3"
    },
    "language_info": {
      "codemirror_mode": {
        "name": "ipython",
        "version": 3
      },
      "file_extension": ".py",
      "mimetype": "text/x-python",
      "name": "python",
      "nbconvert_exporter": "python",
      "pygments_lexer": "ipython3",
      "version": "3.12.5"
    }
  },
  "nbformat": 4,
  "nbformat_minor": 5
}