{
  "nbformat": 4,
  "nbformat_minor": 0,
  "metadata": {
    "colab": {
      "provenance": []
    },
    "kernelspec": {
      "name": "python3",
      "display_name": "Python 3"
    },
    "language_info": {
      "name": "python"
    }
  },
  "cells": [
    {
      "cell_type": "markdown",
      "source": [
        "### SE(AI&DS) - Bhavya Damani_10"
      ],
      "metadata": {
        "id": "DeQkfk7h7tXI"
      }
    },
    {
      "cell_type": "code",
      "execution_count": 6,
      "metadata": {
        "colab": {
          "base_uri": "https://localhost:8080/",
          "height": 0
        },
        "id": "pSTju63s5Tdl",
        "outputId": "760a04a0-508a-4b60-b5b6-9673c6132d6f"
      },
      "outputs": [
        {
          "output_type": "stream",
          "name": "stdout",
          "text": [
            "Enter space-separated elements of the linked list: 0 1 2\n",
            "Enter the number of rotations: 4\n",
            "Rotated List: [2, 0, 1]\n"
          ]
        }
      ],
      "source": [
        "class ListNode:\n",
        "    def __init__(self, val=0, next=None):\n",
        "        self.val = val\n",
        "        self.next = next\n",
        "\n",
        "def rotateRight(head: ListNode, k: int) -> ListNode:\n",
        "    if not head or not head.next or k == 0:\n",
        "        return head\n",
        "\n",
        "    length = 1\n",
        "    last = head\n",
        "    while last.next:\n",
        "        last = last.next\n",
        "        length += 1\n",
        "\n",
        "    k = k % length\n",
        "    if k == 0:\n",
        "        return head\n",
        "\n",
        "    new_tail = head\n",
        "    for _ in range(length - k - 1):\n",
        "        new_tail = new_tail.next\n",
        "\n",
        "    new_head = new_tail.next\n",
        "    new_tail.next = None\n",
        "    last.next = head\n",
        "\n",
        "    return new_head\n",
        "\n",
        "def list_to_linked(lst):\n",
        "    if not lst:\n",
        "        return None\n",
        "    head = ListNode(lst[0])\n",
        "    curr = head\n",
        "    for val in lst[1:]:\n",
        "        curr.next = ListNode(val)\n",
        "        curr = curr.next\n",
        "    return head\n",
        "\n",
        "def linked_to_list(head):\n",
        "    result = []\n",
        "    while head:\n",
        "        result.append(head.val)\n",
        "        head = head.next\n",
        "    return result\n",
        "\n",
        "user_list = list(map(int, input(\"Enter space-separated elements of the linked list: \").split()))\n",
        "k = int(input(\"Enter the number of rotations: \"))\n",
        "\n",
        "head = list_to_linked(user_list)\n",
        "rotated_head = rotateRight(head, k)\n",
        "\n",
        "print(\"Rotated List:\", linked_to_list(rotated_head))\n"
      ]
    },
    {
      "cell_type": "code",
      "source": [],
      "metadata": {
        "id": "sdwvsyou7pcX"
      },
      "execution_count": null,
      "outputs": []
    }
  ]
}